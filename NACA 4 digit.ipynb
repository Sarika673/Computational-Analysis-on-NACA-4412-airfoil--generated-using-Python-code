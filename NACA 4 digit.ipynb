{
  "nbformat": 4,
  "nbformat_minor": 0,
  "metadata": {
    "colab": {
      "provenance": []
    },
    "kernelspec": {
      "name": "python3",
      "display_name": "Python 3"
    },
    "language_info": {
      "name": "python"
    }
  },
  "cells": [
    {
      "cell_type": "code",
      "execution_count": 3,
      "metadata": {
        "colab": {
          "base_uri": "https://localhost:8080/",
          "height": 482
        },
        "id": "hHzXbmxf6Bjp",
        "outputId": "cb17883a-51de-4ed6-e6a0-74aeda03a4a7"
      },
      "outputs": [
        {
          "name": "stdout",
          "output_type": "stream",
          "text": [
            "enter Max camber in ones:2\n",
            "enter position of Max camber in 10s:40\n",
            "enter Max. Thickness in 10s12\n"
          ]
        },
        {
          "output_type": "display_data",
          "data": {
            "text/plain": [
              "<Figure size 640x480 with 1 Axes>"
            ],
            "image/png": "[encoded data removed]"
          },
          "metadata": {}
        }
      ],
      "source": [
        "import numpy as np\n",
        "import matplotlib.pyplot as plt\n",
        "\n",
        "# Number of grid points\n",
        "gridPts = 500\n",
        "\n",
        "# Constants\n",
        "a0 = 0.2969\n",
        "a1 = -0.1260\n",
        "a2 = -0.3516\n",
        "a3 = 0.2843\n",
        "a4 = -0.1015  # Open trailing edge\n",
        "# a4 = -0.1036  # Closed trailing edge\n",
        "\n",
        "# Calculations\n",
        "\n",
        "# m,p,t are not in percentages\n",
        "M = int(input('enter Max camber in ones:'))/100\n",
        "P = int(input('enter position of Max camber in 10s:'))/100\n",
        "T = int(input('enter Max. Thickness in 10s'))/100\n",
        "\n",
        "# Airfoil grid\n",
        "x = np.linspace(0, 1, gridPts)\n",
        "\n",
        "# Camber and Gradient\n",
        "yc = np.ones(gridPts)  # create array of 500 rows and 1 column\n",
        "dyc_dx = np.ones(gridPts)\n",
        "theta = np.ones(gridPts)\n",
        "\n",
        "for i in range(gridPts):\n",
        "    if 0 <= x[i] < P:\n",
        "        yc[i] = (M / (P**2)) * ((2 * P * x[i]) - (x[i]**2))\n",
        "        dyc_dx[i] = ((2 * M) / (P**2)) * (P - x[i])\n",
        "    elif P <= x[i] <= 1:\n",
        "        yc[i] = (M / ((1 - P)**2)) * (1 - (2 * P) + (2 * P * x[i]) - (x[i]**2))\n",
        "        dyc_dx[i] = ((2 * M) / ((1 - P)**2)) * (P - x[i])\n",
        "    theta[i] = np.arctan(dyc_dx[i])\n",
        "\n",
        "# Thickness distribution\n",
        "yt = 5 * T * (a0 * np.sqrt(x) + a1 * x + a2 * x**2 + a3 * x**3 + a4 * x**4)  # element-wise multiplication\n",
        "\n",
        "# Upper surface points\n",
        "xu = x - yt * np.sin(theta)\n",
        "yu = yc + yt * np.cos(theta)\n",
        "\n",
        "# Lower surface points\n",
        "xl = x + yt * np.sin(theta)\n",
        "yl = yc - yt * np.cos(theta)\n",
        "\n",
        "# Plot the airfoil (with lines)\n",
        "plt.figure(2)\n",
        "\n",
        "\n",
        "plt.axis('equal')\n",
        "plt.plot(xu, yu, 'b-')\n",
        "plt.plot(xl, yl, 'b-')\n",
        "plt.show()\n",
        "\n"
      ]
    }
  ]
}